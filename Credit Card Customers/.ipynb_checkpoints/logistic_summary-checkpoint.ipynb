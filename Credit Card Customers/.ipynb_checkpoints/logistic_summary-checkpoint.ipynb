{
 "cells": [
  {
   "cell_type": "markdown",
   "metadata": {},
   "source": [
    "## 1. Logistic regression? \n",
    "![logitstic_regression](https://user-images.githubusercontent.com/49746140/106357602-62b9b700-634a-11eb-88f3-531ca811aee8.JPG)\n",
    "- 위 그림과 같이 맞추고자 하는 정답이 Y=1/0인 경우, \n",
    " 1) 좌측 그림과 같은 다중선형회귀모델을 사용한다면, 정확한 값을 예측하기 어렵다 \n",
    " 2) Y가 범주형 변수일 때는 다중선형회귀모델을 그대로 적용할 수 없으며, 따라서 이를 해결하기 위해 우측 그림과 같이 1/0을 예측하기 위한 로지스틱 회귀 모델이 제안이 되었다. "
   ]
  },
  {
   "cell_type": "markdown",
   "metadata": {},
   "source": [
    "## 2. Logistic 함수 / Odds \n",
    "- 로지스틱 함수의 뼈대가 되는 아이디어임\n",
    "\n",
    "### 1) Odds \n",
    "- 임의의 사건 A가 발생하지 않을 확률 대비 일어날 확률의 비율을 뜻하는 개념 \n",
    "\n",
    "$$ \n",
    "odds = p \\over 1-p\n",
    "$$\n",
    "\n",
    "- 위 수식을 보면, A가 일어날 확률 p가 1에 가까울 수록 그 확률은 무한대로 증가하게 되지만, p가 0이라면 그 값은 0이됨 (0~lnf) \n",
    "\n",
    "### 2) Logistic \n",
    "- 범주가 두개인 분류 문제를 풀기 위해   \n",
    "  회귀식의 장점은 그대로 유지하되 종속변수 Y를 범주가 아니라 범주 1이 될 확률로 두고 식을 세워 보면, 우변은 그대로 유지하고 좌변만 확률로 바꾸게 됨 \n",
    "\n",
    "$$ \n",
    "P(Y=1|X=x→) =β_0+β_1x_1+β_2x_2+...+β_px_p \n",
    "$$\n",
    "\n",
    "- 위 식을 보면 좌변의 범위는 0~1이지만, 우변은 -lnf ~ lnf임 \n",
    "- 좌변을 Odds로 변경해보면 \n",
    "\n",
    "$$ \n",
    "{P(Y=1|X=x→) \\over1−P(Y=1|X=x→)}=β_0+β_1x_1+β_2x_2+...+β_px_p \n",
    "$$\n",
    "\n",
    "\n",
    "- 좌변은 0 ~ lnf가 되며 우변은 -lnf ~ lnf가 됨 \n",
    "- 여기서 좌변에 log를 취하게 되면 -lnf ~ lnf가 되어 우변과 동일하게 됨 \n",
    "\n",
    "$$\n",
    "log {P(Y=1|X=x→) \\over1−P(Y=1|X=x→)} \n",
    "$$\n",
    "\n",
    "- 위 식을 p를 기준으로 정리하게 되면, 우리가 알고있는 시그모이드 함수가 도출됨 \n",
    "\n",
    "$$\n",
    "p(x)= {e^a \\over1+e^a} = {1 \\over1+e^{−a}}\n",
    "$$\n",
    "\n",
    "<B> <I> <U> 시그모이드 함수는 x값으로 어떤 값이든 받을 수가 있으면서 출력결과는 항상 0~1 사이 값이 됩니다. 즉 확률밀도함수 요건을 충족시키는 함수입니다. </U></I></B>"
   ]
  },
  {
   "cell_type": "markdown",
   "metadata": {},
   "source": [
    "### 3. 최대우도추정법\n",
    "\n",
    "#### 1) 최대우도추정법(Maximum Likelihood Estimation)? \n",
    "- 데이터가 임의의 파라메터 $θ$에 의존하는 확률분포를 따르고 표본데이터 $v_1,v_2,…,v_n$ 이 주어졌다고 할 때, 우리가 데이터가 발생할 확률 $P(v_1,…,v_n |θ)$ 를 구하고 싶은데, $θ$를 모르는 상황임 \n",
    "- 베이즈 규칙을 활용해 위 문제를 $θ$가 발생할 우도로 바꿔서 생각할 수 있음 \n",
    "- $L(θ|v_1,v_2,...,v_n)$ : 관측될 데이터가 발생했을 경우, 이를 가장 최대화 할 수 있는 값(파라메터 $θ$를 통해=우도를 최대화 시켜주는 값)을 찾기 위한 문제로 변환 가능\n",
    "\n",
    "#### 2) 최대우도추정법 특성\n",
    "- 로지스틱 회귀모형은 최대우도추정법을 통해 수행함   \n",
    "- 최대우도추정법은 주어진 데이터에서 가능도가 최대가 되도록 모수를 추정하는 방법임  \n",
    "- 특성으로는   \n",
    "    1) 일치추정량 : 표본 크기가 커지면 그 값이 모수에 점점 더 가까워짐  \n",
    "    2) 점근적으로 효율적인 추정량 : 다른 추정량 대비 분산이 작은 경향이 있음   \n",
    "    3) 점근적으로 정규분포를 따름 : 표본 크기가 커지면 최대우도추정량은 근사적으로 정규분포를 따르게 됨 "
   ]
  },
  {
   "cell_type": "markdown",
   "metadata": {},
   "source": [
    "### 4. 로지스틱 회귀모형 특성 \n",
    "- 비선형 가정 : 로지스틱 회귀모형은 반응변수와 설명변수를 비선형 관계로 가정함 \n",
    "- 정규성, 등분산 가정 없음 : 오차항의 정규성, 등분산성 가정이 없다 \n",
    "- 대표본에 적합 : 최대우도추정법을 이용하므로 신뢰할 수 있는 추정량을 얻기 위해 충분한 표본이 필요함 \n",
    "- 설명변수 간 스케일 차가 작은 것이 좋음 : 각 설명변수 간 스케일 차가 크면 수렴속도가 느린 특성 있음\n",
    "- 모수절약 필요 : 관측치 수에 비해 설명변수 수가 많으면 모형 추정이 어려울 수 있음\n",
    "- 계급불균형 자료에 부적합 : 반응변수 발생비가 매우 낮거나 높은 계급불균형자료는 모수 추정이 어려울 수 있음 "
   ]
  },
  {
   "cell_type": "markdown",
   "metadata": {},
   "source": [
    "### 5. sklearn 사용 방법"
   ]
  },
  {
   "cell_type": "markdown",
   "metadata": {},
   "source": [
    "#### 1) 모델생성을 위한 라이브러리 \n",
    "> from sklearn.linear_model import LogisticRegression"
   ]
  },
  {
   "cell_type": "markdown",
   "metadata": {},
   "source": [
    "- 옵션\n",
    "    - penalty : 페널티를 부여할 때 사용할 기준을 결정 (l1, l2)\n",
    "      - default = 'l2'\n",
    "      - l2 : solver = 'newton-cg, lbfgs, sag \n",
    "      - l1 : solver = liblinear, saga \n",
    "    - dual : Dual Formulation인지 Primal Formulation인지를 결정 (True, False)\n",
    "      - default : False\n",
    "    - tol : 정지 기준에 대한 허용 오차 값 \n",
    "      - default : le-4\n",
    "    - C : 정규화의 강도의 역수값이 / 값이 작을수록 정규화가 강력해짐 \n",
    "      - default : 1.0\n",
    "    - fit_intercept : 의사 결정 기능에 상수를 추가할 지 여부 결정 (True, False) \n",
    "      - default : True\n",
    "    - intercept_scaling : solver를 liblinear, fit_intercept를 True로 사용할 떄만 유용함 \n",
    "      - default : 1\n",
    "    - class_weight : 클래스에 대한 가중치를 설정하는 옵션\n",
    "      - default : None\n",
    "    - random_state : 데이터를 섞을 때 사용하는 랜덤번호 생성기의 시드 값 \n",
    "    - solver : 최적화에 사용할 알고리즘 결정 (newton-cg, lbfgs, liblinear, sag, saga)\n",
    "      - default : 'lbfgs'\n",
    "    - max_iter : solver가 수렴하게 만드는 최대 반복 횟수 값 \n",
    "      - default : 100\n",
    "    - multi_class : \n",
    "      - default : auto\n",
    "      - ovr(이진문제적합): 이때는 solver = 'liblinear\n",
    "      - multinomial(다항문제적합) : 이떄는 solvar = liblinear외 \n",
    "    - verbose : solver중 liblinear, lbfgs만 지원 \n",
    "      - default : 0\n",
    "    - warm_start : 이전 호출에 사용했던 solution을 재사용할지 여부 결정 (True, False)\n",
    "      - default : False\n",
    "    - n_jobs : 병렬처리 시 사용 할 CPU 코어의 수 \n",
    "      - default : None"
   ]
  },
  {
   "cell_type": "markdown",
   "metadata": {},
   "source": [
    "#### 2) 분류정확도 교차분할표를 통한 모델평가 \n",
    "> from sklearn.metrics import accuracy_score, confusion_matrix"
   ]
  },
  {
   "cell_type": "markdown",
   "metadata": {},
   "source": [
    "#### 3) 모델생성 \n",
    "> model = LogisticRegression()   \n",
    "> model.fit(X=features, y=target)   \n",
    "\n",
    "- 기울기 : model.coef_    \n",
    "- 절편 : model.intercept_  \n",
    "- 추정된 모수 확인 : model.get_params()  \n",
    "- x_test로부터 라벨 예측 : model.predict(x_test)          \n",
    "- 로그 취한 확률 예측 : model.predict_log_proba(x_test) \n",
    "- 각 라벨로 예측될 확률 : model.predict_proba(x_test)     \n",
    "- 모델 정확도 평가를 위한 mean accuracy : model.score(x_test, y_test)     "
   ]
  },
  {
   "cell_type": "code",
   "execution_count": null,
   "metadata": {},
   "outputs": [],
   "source": []
  },
  {
   "cell_type": "code",
   "execution_count": null,
   "metadata": {},
   "outputs": [],
   "source": []
  }
 ],
 "metadata": {
  "kernelspec": {
   "display_name": "Python 3",
   "language": "python",
   "name": "python3"
  },
  "language_info": {
   "codemirror_mode": {
    "name": "ipython",
    "version": 3
   },
   "file_extension": ".py",
   "mimetype": "text/x-python",
   "name": "python",
   "nbconvert_exporter": "python",
   "pygments_lexer": "ipython3",
   "version": "3.7.3"
  }
 },
 "nbformat": 4,
 "nbformat_minor": 4
}
